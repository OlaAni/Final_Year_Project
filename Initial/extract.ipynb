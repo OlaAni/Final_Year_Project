{
 "cells": [
  {
   "cell_type": "markdown",
   "metadata": {},
   "source": [
    "# Imports"
   ]
  },
  {
   "cell_type": "code",
   "execution_count": null,
   "metadata": {},
   "outputs": [],
   "source": [
    "# import pandas as pd\n",
    "# df = pd.read_csv('data\\Data\\musicFeatuers.csv')\n",
    "\n",
    "# from sklearn.preprocessing import LabelEncoder\n",
    "# label_encoder = LabelEncoder()\n",
    "\n",
    "# # df['label'] =  label_encoder.fit_transform(df['label'])\n",
    "\n",
    "# df = df.drop(['filename'], axis=1)\n",
    "\n",
    "\n",
    "\n",
    "# X = df[['chroma_stft_mean','chroma_stft_var','rms_mean','rms_var','spectral_centroid_mean','spectral_centroid_var','spectral_bandwidth_mean','spectral_bandwidth_var']]\n",
    "\n",
    "# y = df['label']\n",
    "\n",
    "# y = df[['label']]\n",
    "# X = df[df.columns.difference(['label'])]\n",
    "\n",
    "# from sklearn.model_selection import train_test_split\n",
    "\n",
    "# # X_train, X_test, y_train, y_test = train_test_split(X, y, test_size=0.1, random_state=1)\n",
    "\n",
    "# X_train, X_test, y_train, y_test = train_test_split(df, y, test_size=0.3, random_state=1)\n",
    "# ## train a tree model\n",
    "# sk_dt.fit(X_train, y_train)\n",
    "\n",
    "# from sklearn.linear_model import LinearRegression\n",
    "# # model = LinearRegression()\n",
    "# # model.fit(X_train, y_train)\n",
    "\n",
    "\n",
    "# from sklearn.metrics import classification_report\n",
    "\n",
    "# predictions = sk_dt.predict(X_test)\n",
    "\n",
    "\n",
    "# print(classification_report(y_test, predictions))\n",
    "\n",
    "# y_pred = sk_dt.predict(X_test)\n",
    "\n",
    "\n",
    "\n",
    "# from sklearn.metrics import mean_squared_error\n",
    "# mse = mean_squared_error(Y_test,y_pred)\n",
    "# print(mse)\n"
   ]
  },
  {
   "cell_type": "code",
   "execution_count": null,
   "metadata": {},
   "outputs": [],
   "source": [
    "# %pip install librosa --user"
   ]
  },
  {
   "cell_type": "code",
   "execution_count": 1,
   "metadata": {},
   "outputs": [],
   "source": [
    "import xgboost\n",
    "from sklearn.model_selection import train_test_split, cross_val_predict\n",
    "from sklearn.tree import DecisionTreeClassifier\n",
    "from sklearn.metrics import classification_report, confusion_matrix\n",
    "from sklearn import metrics\n",
    "from sklearn.preprocessing import LabelEncoder\n",
    "import pandas as pd\n",
    "import librosa\n",
    "import numpy as np\n",
    "import matplotlib.pyplot as plt;\n",
    "\n",
    "\n",
    "import warnings\n",
    "warnings.filterwarnings('ignore')\n",
    "# ## create the classifier object leaving all params to default values except random_state\n",
    "# sk_dt = DecisionTreeClassifier(random_state=1)\n"
   ]
  },
  {
   "cell_type": "markdown",
   "metadata": {},
   "source": [
    "# Model"
   ]
  },
  {
   "cell_type": "code",
   "execution_count": 2,
   "metadata": {},
   "outputs": [
    {
     "name": "stdout",
     "output_type": "stream",
     "text": [
      "['blues' 'classical' 'country' 'disco' 'hiphop' 'jazz' 'metal' 'pop'\n",
      " 'reggae' 'rock']\n",
      "6993 2997 6993 2997\n"
     ]
    }
   ],
   "source": [
    "df = pd.read_csv(r'..\\data\\Data\\features_3_sec.csv')\n",
    "\n",
    "# df = df.drop(['filename'], axis=1)\n",
    "\n",
    "# df = df[['chroma_stft_mean','chroma_stft_var','rms_mean','rms_var','spectral_centroid_mean','spectral_centroid_var','spectral_bandwidth_mean','spectral_bandwidth_var','label']]\n",
    "\n",
    "df = df[['chroma_stft_mean','chroma_stft_var','rms_mean','rms_var','spectral_centroid_mean','spectral_centroid_var','spectral_bandwidth_mean','spectral_bandwidth_var','rolloff_mean','rolloff_var','zero_crossing_rate_mean','zero_crossing_rate_var','harmony_mean','harmony_var','tempo','label']]\n",
    "from sklearn.preprocessing import LabelEncoder\n",
    "label_encoder = LabelEncoder()\n",
    "\n",
    "\n",
    "df['label'] =  label_encoder.fit_transform(df['label'])\n",
    "\n",
    "print(label_encoder.classes_)\n",
    "\n",
    "y = df[['label']]\n",
    "X = df[df.columns.difference(['label'])]\n",
    "\n",
    "\n",
    "## split both X and y using a ratio of 70% training - 30% testing\n",
    "X_train, X_test, y_train, y_test = train_test_split(X, y, test_size=0.3, random_state=1)\n",
    "print(len(X_train), len(X_test), len(y_train), len(y_test))\n",
    "\n",
    "target_name = ['blues', 'classical', 'country', 'disco', 'hiphop' ,'jazz' ,'metal', 'pop','reggae' ,'rock']\n"
   ]
  },
  {
   "cell_type": "code",
   "execution_count": 3,
   "metadata": {},
   "outputs": [
    {
     "name": "stdout",
     "output_type": "stream",
     "text": [
      "              precision    recall  f1-score   support\n",
      "\n",
      "       blues       0.77      0.83      0.80       302\n",
      "   classical       0.91      0.92      0.92       296\n",
      "     country       0.68      0.76      0.72       312\n",
      "       disco       0.78      0.78      0.78       283\n",
      "      hiphop       0.85      0.79      0.82       320\n",
      "        jazz       0.80      0.81      0.80       289\n",
      "       metal       0.87      0.89      0.88       303\n",
      "         pop       0.84      0.77      0.80       298\n",
      "      reggae       0.78      0.73      0.75       310\n",
      "        rock       0.65      0.61      0.63       284\n",
      "\n",
      "    accuracy                           0.79      2997\n",
      "   macro avg       0.79      0.79      0.79      2997\n",
      "weighted avg       0.79      0.79      0.79      2997\n",
      "\n",
      "Accuracy:  0.7911244577911245\n"
     ]
    }
   ],
   "source": [
    "\n",
    "\n",
    "xgb = xgboost.XGBClassifier(n_estimators=1000,enable_catergorical=True,learning_rate=0.05)\n",
    "xgb.fit(X_train, y_train)\n",
    "\n",
    "## make predictions on the test portion (predict the labels of the rows from the test portion of X)\n",
    "predictionsXgb = xgb.predict(X_test)\n",
    "\n",
    "\n",
    "\n",
    "print(classification_report(y_test, predictionsXgb, target_names=target_name))\n",
    "## can also output the confusion matrix\n",
    "# cm = confusion_matrix(y_test, predictions)\n",
    "# print(cm)\n",
    "\n",
    "print(\"Accuracy: \" ,metrics.accuracy_score(y_test, predictionsXgb))\n",
    "\n",
    "cols_when_model_builds = xgb.feature_names_in_\n"
   ]
  },
  {
   "cell_type": "code",
   "execution_count": null,
   "metadata": {},
   "outputs": [],
   "source": [
    "feature_importances = xgb.feature_importances_\n",
    "\n",
    "# Create a DataFrame to display feature importances\n",
    "feature_importance_df = pd.DataFrame({'Feature': X_train.columns, 'Importance': feature_importances})\n",
    "feature_importance_df = feature_importance_df.sort_values(by='Importance', ascending=False)\n",
    "\n",
    "print(\"\\nFeature Importances:\")\n",
    "print(feature_importance_df)"
   ]
  },
  {
   "cell_type": "code",
   "execution_count": null,
   "metadata": {},
   "outputs": [],
   "source": [
    "from sklearn.ensemble import RandomForestClassifier\n",
    "\n",
    "\n",
    "forest = RandomForestClassifier(n_estimators=1000, max_depth=10, random_state=0)\n",
    "forest.fit(X_train, y_train)\n",
    "predictionsForest = forest.predict(X_test)\n",
    "\n",
    "print(classification_report(y_test, predictionsForest, target_names=target_name))\n",
    "print(\"Accuracy: \" ,metrics.accuracy_score(y_test, predictionsForest))\n",
    "\n"
   ]
  },
  {
   "cell_type": "code",
   "execution_count": null,
   "metadata": {},
   "outputs": [],
   "source": [
    "dtc = DecisionTreeClassifier()\n",
    "dtc.fit(X_train, y_train)\n",
    "predictionsDTC = dtc.predict(X_test)\n",
    "\n",
    "print(classification_report(y_test, predictionsDTC, target_names=target_name))\n",
    "print(\"Accuracy: \" ,metrics.accuracy_score(y_test, predictionsDTC))"
   ]
  },
  {
   "cell_type": "code",
   "execution_count": null,
   "metadata": {},
   "outputs": [],
   "source": [
    "from sklearn import preprocessing\n",
    "from sklearn.neighbors import KNeighborsClassifier\n",
    "\n",
    "scaledX = preprocessing.scale(X_train)\n",
    "scaledt = preprocessing.scale(X_test)\n",
    "\n",
    "\n",
    "KNC = KNeighborsClassifier(n_neighbors=1)\n",
    "KNC.fit(scaledX, y_train)\n",
    "predictionsKNC = KNC.predict(scaledt)\n",
    "\n",
    "print(classification_report(y_test, predictionsKNC, target_names=target_name))\n",
    "print(\"Accuracy: \" ,metrics.accuracy_score(y_test, predictionsKNC))\n"
   ]
  },
  {
   "cell_type": "markdown",
   "metadata": {},
   "source": [
    "# Find Similar"
   ]
  },
  {
   "cell_type": "code",
   "execution_count": null,
   "metadata": {},
   "outputs": [],
   "source": [
    "from sklearn.metrics.pairwise import cosine_similarity\n",
    "from sklearn import preprocessing\n",
    "from sklearn.preprocessing import LabelEncoder\n",
    "\n",
    "def find_sim(data):\n",
    "    placeHoldername = 'test'\n",
    "    data['filename'] = placeHoldername\n",
    "\n",
    "    df_sim = pd.read_csv(r'..\\data\\Data\\features_30_sec.csv')\n",
    "\n",
    "    df_sim = df_sim[['filename','chroma_stft_mean','chroma_stft_var','rms_mean','rms_var','spectral_centroid_mean','spectral_centroid_var','spectral_bandwidth_mean','spectral_bandwidth_var','rolloff_mean','rolloff_var','zero_crossing_rate_mean','zero_crossing_rate_var','harmony_mean','harmony_var','tempo','label']]\n",
    "\n",
    "\n",
    "    from sklearn.preprocessing import LabelEncoder\n",
    "    label_encoder = LabelEncoder()\n",
    "    df_sim['label'] = df_sim['label'].astype(\"string\")\n",
    "    df_sim['label'] =  label_encoder.fit_transform(df_sim['label'])\n",
    "\n",
    "\n",
    "\n",
    "\n",
    "    combined_df = pd.concat([df_sim, data], ignore_index=True)\n",
    "\n",
    "    combined_df = combined_df.set_index('filename')\n",
    "\n",
    " \n",
    "    labels = combined_df[['label']]\n",
    "\n",
    "    \n",
    "    scaled = preprocessing.scale(combined_df)\n",
    "    similarity = cosine_similarity(scaled)\n",
    "    sim_df_labels = pd.DataFrame(similarity)\n",
    "    sim_df_names = sim_df_labels.set_index(labels.index)\n",
    "    sim_df_names.columns = labels.index\n",
    "\n",
    "    series = sim_df_names[placeHoldername].sort_values(ascending=False)\n",
    "    series = series.drop(placeHoldername)\n",
    "\n",
    "\n",
    "    series = series.head(3).to_dict()\n",
    "\n",
    "    from collections import Counter\n",
    "\n",
    "    k = Counter(series)\n",
    "    \n",
    "    # Finding 3 highest values\n",
    "    series = k.most_common(3) \n",
    "    \n",
    "    for i in series:\n",
    "        print(i[0],\" :\",i[1],\" \")\n",
    "\n",
    "    return series\n",
    "\n",
    "\n",
    "\n"
   ]
  },
  {
   "cell_type": "code",
   "execution_count": null,
   "metadata": {},
   "outputs": [],
   "source": [
    "def extract_features(file):\n",
    "    y, sr = librosa.load(file)\n",
    "\n",
    "    chroma_sft_mean =  np.mean(librosa.feature.chroma_stft(y=y, sr=sr))\n",
    "    chroma_sft_var =  librosa.feature.chroma_stft(y=y, sr=sr).var()\n",
    "\n",
    "    rms_mean = librosa.feature.rms(y=y).mean()\n",
    "    rms_var = librosa.feature.rms(y=y).var()\n",
    "\n",
    "    spectral_centroid_mean = librosa.feature.spectral_centroid(y=y, sr=sr).mean()\n",
    "    spectral_centroid_var = librosa.feature.spectral_centroid(y=y, sr=sr).var()\n",
    "\n",
    "    spectral_bandwith_mean = librosa.feature.spectral_bandwidth(y=y, sr=sr).mean()\n",
    "    spectral_bandwith_var = librosa.feature.spectral_bandwidth(y=y, sr=sr).var()\n",
    "\n",
    "    rolloff_mean = librosa.feature.spectral_rolloff(y=y, sr=sr).mean()\n",
    "    rolloff_var = librosa.feature.spectral_rolloff(y=y, sr=sr).var()\n",
    "\n",
    "    zero_crossing_rate_mean = librosa.feature.zero_crossing_rate(y=y).mean()\n",
    "    zero_crossing_rate_var = librosa.feature.zero_crossing_rate(y=y).var()\n",
    "\n",
    "\n",
    "    harmony_mean = librosa.effects.harmonic(y).mean()\n",
    "    harmony_var = librosa.effects.harmonic(y).var()\n",
    "\n",
    "    tempo = librosa.feature.tempo(y=y, sr=sr)[0]\n",
    "\n",
    "    \n",
    "\n",
    "    print(\"chroma_sft_mean: \",chroma_sft_mean)\n",
    "    print(\"chroma_sft_var: \",chroma_sft_var)\n",
    "    print(\"rms_mean: \",rms_mean)\n",
    "    print(\"rms_var: \",rms_var)\n",
    "    print(\"spectral_centroid_mean: \",spectral_centroid_mean)\n",
    "    print(\"spectral_centroid_var: \",spectral_centroid_var)\n",
    "    print(\"spectral_bandwith_mean: \",spectral_bandwith_mean)\n",
    "    print(\"spectral_bandwith_var: \",spectral_bandwith_var)\n",
    "    print(\"rolloff_mean: \",rolloff_mean)\n",
    "    print(\"rolloff_var: \",rolloff_var)\n",
    "    print(\"zero_crossing_rate_mean: \",zero_crossing_rate_mean)\n",
    "    print(\"zero_crossing_rate_var: \",zero_crossing_rate_var)\n",
    "    print(\"harmony_mean: \",harmony_mean)\n",
    "    print(\"harmony_var: \",harmony_var)\n",
    "    print(\"tempo: \",tempo)\n",
    "\n",
    "    features = pd.DataFrame({'chroma_stft_mean':[chroma_sft_mean],'chroma_stft_var':[chroma_sft_var],'rms_mean':[rms_mean],'rms_var':[rms_var],'spectral_centroid_mean':[spectral_centroid_mean],\n",
    "                             'spectral_centroid_var':[spectral_centroid_var],'spectral_bandwidth_mean':[spectral_bandwith_mean],'spectral_bandwidth_var':[spectral_bandwith_var],\n",
    "                             'rolloff_mean':[rolloff_mean],'rolloff_var':[rolloff_var],'zero_crossing_rate_mean':[zero_crossing_rate_mean],'zero_crossing_rate_var':[zero_crossing_rate_var],\n",
    "                             'harmony_mean':[harmony_mean],'harmony_var':[harmony_var],'tempo':[tempo],})\n",
    "    \n",
    "\n",
    "    features = features.reindex(columns=cols_when_model_builds)\n",
    "\n",
    "    # features = features.reshape(-1,1)\n",
    "    return features\n",
    "\n"
   ]
  },
  {
   "cell_type": "code",
   "execution_count": null,
   "metadata": {},
   "outputs": [],
   "source": [
    "features1 =  extract_features(r\"..\\music\\Beyoncé-Single Ladies.mp3\")\n",
    "\n",
    "# genre1 = xgb.predict(features1)\n",
    "\n",
    "# features1['label'] = genre1[0]\n",
    "\n",
    "# print(\"Similiar Songs:\",find_sim(features1))\n"
   ]
  },
  {
   "cell_type": "code",
   "execution_count": null,
   "metadata": {},
   "outputs": [],
   "source": [
    "import joblib\n",
    "\n",
    "model = joblib.load('model.pkl')\n",
    "genre1 = model.predict(features1)\n",
    "\n",
    "print(genre1[0])\n",
    "print(model.get_booster().feature_names)"
   ]
  },
  {
   "cell_type": "markdown",
   "metadata": {},
   "source": [
    "# Find Prediction"
   ]
  },
  {
   "cell_type": "code",
   "execution_count": null,
   "metadata": {},
   "outputs": [],
   "source": [
    "def find_pred(result):\n",
    "    import json\n",
    "    import pandas as pd\n",
    "    from sklearn.model_selection import train_test_split\n",
    "    from sklearn.linear_model import LinearRegression\n",
    "\n",
    "    model = LinearRegression()\n",
    "\n",
    "    dfs = []\n",
    "\n",
    "    if(result is None):\n",
    "        return \"Null\"\n",
    "    \n",
    "\n",
    "    df = pd.DataFrame.from_dict(result, orient='index')\n",
    "    dfs.append(df)\n",
    "\n",
    "\n",
    "    combined_df = pd.concat(dfs, ignore_index=True)\n",
    "\n",
    "    newData=[]\n",
    "    for i in range(len(df)):\n",
    "        y = json.loads(combined_df[0][i])\n",
    "        newData.append(y)\n",
    "\n",
    "    if(len(newData)<3):\n",
    "        return \"Not enough\"\n",
    "\n",
    "    newData = pd.DataFrame(newData)\n",
    "\n",
    "    finalDf = pd.DataFrame()\n",
    "    for i in range(len(newData)):\n",
    "        df = pd.DataFrame([newData[0][i]])\n",
    "        finalDf = pd.concat([finalDf, df], ignore_index=True)\n",
    "\n",
    "\n",
    "\n",
    "    # finalDf =  finalDf.drop(['label'], axis=1)\n",
    "\n",
    "    features = pd.DataFrame(columns=finalDf.columns)\n",
    "\n",
    "    for column in finalDf:\n",
    "        X_train, X_test, y_train, y_test = train_test_split(finalDf, finalDf[column], test_size=0.2)\n",
    "        model.fit(X_train, y_train)\n",
    "        prediction = model.predict(X_test)\n",
    "        features.loc[0, column] = prediction[0]  # Assuming you want to update the first row (index 0)\n",
    "        # print(column,\":\",prediction[0])\n",
    "        \n",
    "    \n",
    "\n",
    "\n",
    "\n",
    "    return features\n",
    "\n",
    "\n"
   ]
  },
  {
   "cell_type": "code",
   "execution_count": null,
   "metadata": {},
   "outputs": [],
   "source": [
    "from firebase import firebase\n",
    "\n",
    "firebase = firebase.FirebaseApplication('https://orpheus-3a4fa-default-rtdb.europe-west1.firebasedatabase.app/', None)\n",
    "result = firebase.get('/users', 'LPzlgxH7J6TlEkBU39oXYMMGSlU2')\n",
    "\n",
    "pred= find_pred(result)\n",
    "print(pred)\n",
    "# find_sim(pred)"
   ]
  },
  {
   "cell_type": "code",
   "execution_count": null,
   "metadata": {},
   "outputs": [],
   "source": [
    "def find_pred_poly(data, features, predicted_feature):\n",
    "    from sklearn.model_selection import train_test_split\n",
    "    from sklearn.linear_model import LinearRegression\n",
    "\n",
    "    features = features.drop(['filename'], axis=1)\n",
    "\n",
    "    X_train, X_test, y_train, y_test = train_test_split(data, data[predicted_feature], test_size=0.2)\n",
    "\n",
    "    model = LinearRegression()\n",
    "    model.fit(X_train, y_train)\n",
    "\n",
    "\n",
    "    prediction = model.predict(features)\n",
    "\n",
    "    return prediction[0]"
   ]
  },
  {
   "cell_type": "markdown",
   "metadata": {},
   "source": [
    "# Feature Extractor\n",
    "\n"
   ]
  },
  {
   "cell_type": "code",
   "execution_count": 7,
   "metadata": {},
   "outputs": [],
   "source": [
    "def extract_features(file):\n",
    "    y, sr = librosa.load(file)\n",
    "\n",
    "    chroma_sft_mean =  np.mean(librosa.feature.chroma_stft(y=y, sr=sr))\n",
    "    chroma_sft_var =  librosa.feature.chroma_stft(y=y, sr=sr).var()\n",
    "\n",
    "    rms_mean = librosa.feature.rms(y=y).mean()\n",
    "    rms_var = librosa.feature.rms(y=y).var()\n",
    "\n",
    "    spectral_centroid_mean = librosa.feature.spectral_centroid(y=y, sr=sr).mean()\n",
    "    spectral_centroid_var = librosa.feature.spectral_centroid(y=y, sr=sr).var()\n",
    "\n",
    "    spectral_bandwith_mean = librosa.feature.spectral_bandwidth(y=y, sr=sr).mean()\n",
    "    spectral_bandwith_var = librosa.feature.spectral_bandwidth(y=y, sr=sr).var()\n",
    "\n",
    "    rolloff_mean = librosa.feature.spectral_rolloff(y=y, sr=sr).mean()\n",
    "    rolloff_var = librosa.feature.spectral_rolloff(y=y, sr=sr).var()\n",
    "\n",
    "    zero_crossing_rate_mean = librosa.feature.zero_crossing_rate(y=y).mean()\n",
    "    zero_crossing_rate_var = librosa.feature.zero_crossing_rate(y=y).var()\n",
    "\n",
    "\n",
    "    harmony_mean = librosa.effects.harmonic(y).mean()\n",
    "    harmony_var = librosa.effects.harmonic(y).var()\n",
    "\n",
    "    tempo = librosa.feature.tempo(y=y, sr=sr)[0]\n",
    "\n",
    "    \n",
    "\n",
    "    # print(\"chroma_sft_mean: \",chroma_sft_mean)\n",
    "    # print(\"chroma_sft_var: \",chroma_sft_var)\n",
    "    # print(\"rms_mean: \",rms_mean)\n",
    "    # print(\"rms_var: \",rms_var)\n",
    "    # print(\"spectral_centroid_mean: \",spectral_centroid_mean)\n",
    "    # print(\"spectral_centroid_var: \",spectral_centroid_var)\n",
    "    # print(\"spectral_bandwith_mean: \",spectral_bandwith_mean)\n",
    "    # print(\"spectral_bandwith_var: \",spectral_bandwith_var)\n",
    "    # print(\"rolloff_mean: \",rolloff_mean)\n",
    "    # print(\"rolloff_var: \",rolloff_var)\n",
    "    # print(\"zero_crossing_rate_mean: \",zero_crossing_rate_mean)\n",
    "    # print(\"zero_crossing_rate_var: \",zero_crossing_rate_var)\n",
    "    # print(\"harmony_mean: \",harmony_mean)\n",
    "    # print(\"harmony_var: \",harmony_var)\n",
    "    # print(\"tempo: \",tempo)\n",
    "    print('---------------------------------------------------')\n",
    "\n",
    "    features = pd.DataFrame({'chroma_stft_mean':[chroma_sft_mean],'chroma_stft_var':[chroma_sft_var],'rms_mean':[rms_mean],'rms_var':[rms_var],'spectral_centroid_mean':[spectral_centroid_mean],\n",
    "                             'spectral_centroid_var':[spectral_centroid_var],'spectral_bandwidth_mean':[spectral_bandwith_mean],'spectral_bandwidth_var':[spectral_bandwith_var],\n",
    "                             'rolloff_mean':[rolloff_mean],'rolloff_var':[rolloff_var],'zero_crossing_rate_mean':[zero_crossing_rate_mean],'zero_crossing_rate_var':[zero_crossing_rate_var],\n",
    "                             'harmony_mean':[harmony_mean],'harmony_var':[harmony_var],'tempo':[tempo],})\n",
    "    \n",
    "\n",
    "    features = features.reindex(columns=cols_when_model_builds)\n",
    "\n",
    "    # features = features.reshape(-1,1)\n",
    "    return features\n",
    "\n"
   ]
  },
  {
   "cell_type": "code",
   "execution_count": 5,
   "metadata": {},
   "outputs": [],
   "source": [
    "def confidence_score(proba):\n",
    "    from collections import Counter\n",
    "    confi = {}\n",
    "    i=0\n",
    "    for val in proba[0]:\n",
    "        rounded = round(val *100,2)\n",
    "        # print(rounded ,\"% :\",target_name[i])\n",
    "        confi[target_name[i]] = rounded\n",
    "        i = i+1\n",
    "\n",
    "    k = Counter(confi)\n",
    "    \n",
    "    # Finding 3 highest values\n",
    "    high = k.most_common(3) \n",
    "    \n",
    "    for i in high:\n",
    "        print(i[0],\" :\",i[1],\" \")"
   ]
  },
  {
   "cell_type": "markdown",
   "metadata": {},
   "source": [
    "# Main"
   ]
  },
  {
   "cell_type": "markdown",
   "metadata": {},
   "source": [
    "* 'blues':0, 'classical':1, 'country':2, 'disco':3, 'hiphop':4 ,'jazz':5 ,'metal':6, 'pop':7,'reggae':8 ,'rock':9 "
   ]
  },
  {
   "cell_type": "code",
   "execution_count": 8,
   "metadata": {},
   "outputs": [
    {
     "name": "stdout",
     "output_type": "stream",
     "text": [
      "---------------------------------------------------\n",
      "metal  : 80.52  \n",
      "rock  : 12.76  \n",
      "disco  : 2.65  \n",
      "metal\n",
      "   chroma_stft_mean  chroma_stft_var  harmony_mean  harmony_var  rms_mean  \\\n",
      "0          0.486882         0.074534      0.000006     0.015245  0.184837   \n",
      "\n",
      "    rms_var  rolloff_mean    rolloff_var  spectral_bandwidth_mean  \\\n",
      "0  0.001062   4201.572521  760465.702192              2235.380228   \n",
      "\n",
      "   spectral_bandwidth_var  spectral_centroid_mean  spectral_centroid_var  \\\n",
      "0            52725.014769             2057.550588          138830.804077   \n",
      "\n",
      "        tempo  zero_crossing_rate_mean  zero_crossing_rate_var  \n",
      "0  107.666016                 0.093629                 0.00087  \n"
     ]
    }
   ],
   "source": [
    "\n",
    "features2 =  extract_features(r\"..\\music\\Outkast-Hey Ya!.mp3\")\n",
    "\n",
    "genre2 = xgb.predict(features2)\n",
    "genreP2 = xgb.predict_proba(features2)\n",
    "\n",
    "label2 = label_encoder.inverse_transform(genre2)[0]\n",
    "confidence_score(genreP2)\n",
    "print(label2)\n",
    "\n",
    "\n",
    "print(features2)"
   ]
  },
  {
   "cell_type": "code",
   "execution_count": 21,
   "metadata": {},
   "outputs": [
    {
     "name": "stdout",
     "output_type": "stream",
     "text": [
      "   chroma_stft_mean  chroma_stft_var  harmony_mean   harmony_var  \\\n",
      "0      5.068385e-07     7.758896e-08  6.550427e-12  1.586967e-08   \n",
      "\n",
      "       rms_mean       rms_var  rolloff_mean  rolloff_var  \\\n",
      "0  1.924138e-07  1.105724e-09      0.004374     0.791637   \n",
      "\n",
      "   spectral_bandwidth_mean  spectral_bandwidth_var  spectral_centroid_mean  \\\n",
      "0                 0.002327                0.054886                0.002142   \n",
      "\n",
      "   spectral_centroid_var     tempo  zero_crossing_rate_mean  \\\n",
      "0               0.144521  0.000112             9.746657e-08   \n",
      "\n",
      "   zero_crossing_rate_var  \n",
      "0            9.055694e-10  \n"
     ]
    }
   ],
   "source": [
    "from sklearn.preprocessing import Normalizer\n",
    "scaler = Normalizer(norm='l1') \n",
    "normalized_data = scaler.fit_transform(features2)\n",
    "normalized_df = pd.DataFrame(normalized_data, columns=features2.columns)\n",
    "print(normalized_df)"
   ]
  },
  {
   "cell_type": "code",
   "execution_count": 74,
   "metadata": {},
   "outputs": [],
   "source": [
    "dmatrix_features2 = xgboost.DMatrix(features2)\n",
    "xgtest = xgboost.DMatrix(features2)\n",
    "contributions = xgb.get_booster().predict(xgtest, pred_contribs=True)\n"
   ]
  },
  {
   "cell_type": "code",
   "execution_count": 85,
   "metadata": {},
   "outputs": [
    {
     "ename": "ValueError",
     "evalue": "shape mismatch: objects cannot be broadcast to a single shape.  Mismatch is between arg 0 with shape (15,) and arg 1 with shape (1, 16).",
     "output_type": "error",
     "traceback": [
      "\u001b[1;31m---------------------------------------------------------------------------\u001b[0m",
      "\u001b[1;31mValueError\u001b[0m                                Traceback (most recent call last)",
      "Cell \u001b[1;32mIn[85], line 8\u001b[0m\n\u001b[0;32m      6\u001b[0m \u001b[38;5;66;03m# Create a bar plot with labeled bars\u001b[39;00m\n\u001b[0;32m      7\u001b[0m plt\u001b[38;5;241m.\u001b[39mfigure(figsize\u001b[38;5;241m=\u001b[39m(\u001b[38;5;241m12\u001b[39m, \u001b[38;5;241m6\u001b[39m))\n\u001b[1;32m----> 8\u001b[0m \u001b[43mplt\u001b[49m\u001b[38;5;241;43m.\u001b[39;49m\u001b[43mbar\u001b[49m\u001b[43m(\u001b[49m\u001b[43mfeature_names\u001b[49m\u001b[43m,\u001b[49m\u001b[43m \u001b[49m\u001b[43mall_contributions\u001b[49m\u001b[43m)\u001b[49m\n\u001b[0;32m      9\u001b[0m plt\u001b[38;5;241m.\u001b[39mtitle(\u001b[38;5;124m'\u001b[39m\u001b[38;5;124mContributions for All Features\u001b[39m\u001b[38;5;124m'\u001b[39m)\n\u001b[0;32m     10\u001b[0m plt\u001b[38;5;241m.\u001b[39mxlabel(\u001b[38;5;124m'\u001b[39m\u001b[38;5;124mFeature\u001b[39m\u001b[38;5;124m'\u001b[39m)\n",
      "File \u001b[1;32mc:\\Python311\\Lib\\site-packages\\matplotlib\\pyplot.py:2742\u001b[0m, in \u001b[0;36mbar\u001b[1;34m(x, height, width, bottom, align, data, **kwargs)\u001b[0m\n\u001b[0;32m   2731\u001b[0m \u001b[38;5;129m@_copy_docstring_and_deprecators\u001b[39m(Axes\u001b[38;5;241m.\u001b[39mbar)\n\u001b[0;32m   2732\u001b[0m \u001b[38;5;28;01mdef\u001b[39;00m \u001b[38;5;21mbar\u001b[39m(\n\u001b[0;32m   2733\u001b[0m     x: \u001b[38;5;28mfloat\u001b[39m \u001b[38;5;241m|\u001b[39m ArrayLike,\n\u001b[1;32m   (...)\u001b[0m\n\u001b[0;32m   2740\u001b[0m     \u001b[38;5;241m*\u001b[39m\u001b[38;5;241m*\u001b[39mkwargs,\n\u001b[0;32m   2741\u001b[0m ) \u001b[38;5;241m-\u001b[39m\u001b[38;5;241m>\u001b[39m BarContainer:\n\u001b[1;32m-> 2742\u001b[0m     \u001b[38;5;28;01mreturn\u001b[39;00m \u001b[43mgca\u001b[49m\u001b[43m(\u001b[49m\u001b[43m)\u001b[49m\u001b[38;5;241;43m.\u001b[39;49m\u001b[43mbar\u001b[49m\u001b[43m(\u001b[49m\n\u001b[0;32m   2743\u001b[0m \u001b[43m        \u001b[49m\u001b[43mx\u001b[49m\u001b[43m,\u001b[49m\n\u001b[0;32m   2744\u001b[0m \u001b[43m        \u001b[49m\u001b[43mheight\u001b[49m\u001b[43m,\u001b[49m\n\u001b[0;32m   2745\u001b[0m \u001b[43m        \u001b[49m\u001b[43mwidth\u001b[49m\u001b[38;5;241;43m=\u001b[39;49m\u001b[43mwidth\u001b[49m\u001b[43m,\u001b[49m\n\u001b[0;32m   2746\u001b[0m \u001b[43m        \u001b[49m\u001b[43mbottom\u001b[49m\u001b[38;5;241;43m=\u001b[39;49m\u001b[43mbottom\u001b[49m\u001b[43m,\u001b[49m\n\u001b[0;32m   2747\u001b[0m \u001b[43m        \u001b[49m\u001b[43malign\u001b[49m\u001b[38;5;241;43m=\u001b[39;49m\u001b[43malign\u001b[49m\u001b[43m,\u001b[49m\n\u001b[0;32m   2748\u001b[0m \u001b[43m        \u001b[49m\u001b[38;5;241;43m*\u001b[39;49m\u001b[38;5;241;43m*\u001b[39;49m\u001b[43m(\u001b[49m\u001b[43m{\u001b[49m\u001b[38;5;124;43m\"\u001b[39;49m\u001b[38;5;124;43mdata\u001b[39;49m\u001b[38;5;124;43m\"\u001b[39;49m\u001b[43m:\u001b[49m\u001b[43m \u001b[49m\u001b[43mdata\u001b[49m\u001b[43m}\u001b[49m\u001b[43m \u001b[49m\u001b[38;5;28;43;01mif\u001b[39;49;00m\u001b[43m \u001b[49m\u001b[43mdata\u001b[49m\u001b[43m \u001b[49m\u001b[38;5;129;43;01mis\u001b[39;49;00m\u001b[43m \u001b[49m\u001b[38;5;129;43;01mnot\u001b[39;49;00m\u001b[43m \u001b[49m\u001b[38;5;28;43;01mNone\u001b[39;49;00m\u001b[43m \u001b[49m\u001b[38;5;28;43;01melse\u001b[39;49;00m\u001b[43m \u001b[49m\u001b[43m{\u001b[49m\u001b[43m}\u001b[49m\u001b[43m)\u001b[49m\u001b[43m,\u001b[49m\n\u001b[0;32m   2749\u001b[0m \u001b[43m        \u001b[49m\u001b[38;5;241;43m*\u001b[39;49m\u001b[38;5;241;43m*\u001b[39;49m\u001b[43mkwargs\u001b[49m\u001b[43m,\u001b[49m\n\u001b[0;32m   2750\u001b[0m \u001b[43m    \u001b[49m\u001b[43m)\u001b[49m\n",
      "File \u001b[1;32mc:\\Python311\\Lib\\site-packages\\matplotlib\\__init__.py:1478\u001b[0m, in \u001b[0;36m_preprocess_data.<locals>.inner\u001b[1;34m(ax, data, *args, **kwargs)\u001b[0m\n\u001b[0;32m   1475\u001b[0m \u001b[38;5;129m@functools\u001b[39m\u001b[38;5;241m.\u001b[39mwraps(func)\n\u001b[0;32m   1476\u001b[0m \u001b[38;5;28;01mdef\u001b[39;00m \u001b[38;5;21minner\u001b[39m(ax, \u001b[38;5;241m*\u001b[39margs, data\u001b[38;5;241m=\u001b[39m\u001b[38;5;28;01mNone\u001b[39;00m, \u001b[38;5;241m*\u001b[39m\u001b[38;5;241m*\u001b[39mkwargs):\n\u001b[0;32m   1477\u001b[0m     \u001b[38;5;28;01mif\u001b[39;00m data \u001b[38;5;129;01mis\u001b[39;00m \u001b[38;5;28;01mNone\u001b[39;00m:\n\u001b[1;32m-> 1478\u001b[0m         \u001b[38;5;28;01mreturn\u001b[39;00m \u001b[43mfunc\u001b[49m\u001b[43m(\u001b[49m\u001b[43max\u001b[49m\u001b[43m,\u001b[49m\u001b[43m \u001b[49m\u001b[38;5;241;43m*\u001b[39;49m\u001b[38;5;28;43mmap\u001b[39;49m\u001b[43m(\u001b[49m\u001b[43msanitize_sequence\u001b[49m\u001b[43m,\u001b[49m\u001b[43m \u001b[49m\u001b[43margs\u001b[49m\u001b[43m)\u001b[49m\u001b[43m,\u001b[49m\u001b[43m \u001b[49m\u001b[38;5;241;43m*\u001b[39;49m\u001b[38;5;241;43m*\u001b[39;49m\u001b[43mkwargs\u001b[49m\u001b[43m)\u001b[49m\n\u001b[0;32m   1480\u001b[0m     bound \u001b[38;5;241m=\u001b[39m new_sig\u001b[38;5;241m.\u001b[39mbind(ax, \u001b[38;5;241m*\u001b[39margs, \u001b[38;5;241m*\u001b[39m\u001b[38;5;241m*\u001b[39mkwargs)\n\u001b[0;32m   1481\u001b[0m     auto_label \u001b[38;5;241m=\u001b[39m (bound\u001b[38;5;241m.\u001b[39marguments\u001b[38;5;241m.\u001b[39mget(label_namer)\n\u001b[0;32m   1482\u001b[0m                   \u001b[38;5;129;01mor\u001b[39;00m bound\u001b[38;5;241m.\u001b[39mkwargs\u001b[38;5;241m.\u001b[39mget(label_namer))\n",
      "File \u001b[1;32mc:\\Python311\\Lib\\site-packages\\matplotlib\\axes\\_axes.py:2457\u001b[0m, in \u001b[0;36mAxes.bar\u001b[1;34m(self, x, height, width, bottom, align, **kwargs)\u001b[0m\n\u001b[0;32m   2454\u001b[0m     \u001b[38;5;28;01mif\u001b[39;00m yerr \u001b[38;5;129;01mis\u001b[39;00m \u001b[38;5;129;01mnot\u001b[39;00m \u001b[38;5;28;01mNone\u001b[39;00m:\n\u001b[0;32m   2455\u001b[0m         yerr \u001b[38;5;241m=\u001b[39m \u001b[38;5;28mself\u001b[39m\u001b[38;5;241m.\u001b[39m_convert_dx(yerr, y0, y, \u001b[38;5;28mself\u001b[39m\u001b[38;5;241m.\u001b[39mconvert_yunits)\n\u001b[1;32m-> 2457\u001b[0m x, height, width, y, linewidth, hatch \u001b[38;5;241m=\u001b[39m \u001b[43mnp\u001b[49m\u001b[38;5;241;43m.\u001b[39;49m\u001b[43mbroadcast_arrays\u001b[49m\u001b[43m(\u001b[49m\n\u001b[0;32m   2458\u001b[0m \u001b[43m    \u001b[49m\u001b[38;5;66;43;03m# Make args iterable too.\u001b[39;49;00m\n\u001b[0;32m   2459\u001b[0m \u001b[43m    \u001b[49m\u001b[43mnp\u001b[49m\u001b[38;5;241;43m.\u001b[39;49m\u001b[43matleast_1d\u001b[49m\u001b[43m(\u001b[49m\u001b[43mx\u001b[49m\u001b[43m)\u001b[49m\u001b[43m,\u001b[49m\u001b[43m \u001b[49m\u001b[43mheight\u001b[49m\u001b[43m,\u001b[49m\u001b[43m \u001b[49m\u001b[43mwidth\u001b[49m\u001b[43m,\u001b[49m\u001b[43m \u001b[49m\u001b[43my\u001b[49m\u001b[43m,\u001b[49m\u001b[43m \u001b[49m\u001b[43mlinewidth\u001b[49m\u001b[43m,\u001b[49m\u001b[43m \u001b[49m\u001b[43mhatch\u001b[49m\u001b[43m)\u001b[49m\n\u001b[0;32m   2461\u001b[0m \u001b[38;5;66;03m# Now that units have been converted, set the tick locations.\u001b[39;00m\n\u001b[0;32m   2462\u001b[0m \u001b[38;5;28;01mif\u001b[39;00m orientation \u001b[38;5;241m==\u001b[39m \u001b[38;5;124m'\u001b[39m\u001b[38;5;124mvertical\u001b[39m\u001b[38;5;124m'\u001b[39m:\n",
      "File \u001b[1;32mc:\\Python311\\Lib\\site-packages\\numpy\\lib\\stride_tricks.py:540\u001b[0m, in \u001b[0;36mbroadcast_arrays\u001b[1;34m(subok, *args)\u001b[0m\n\u001b[0;32m    533\u001b[0m \u001b[38;5;66;03m# nditer is not used here to avoid the limit of 32 arrays.\u001b[39;00m\n\u001b[0;32m    534\u001b[0m \u001b[38;5;66;03m# Otherwise, something like the following one-liner would suffice:\u001b[39;00m\n\u001b[0;32m    535\u001b[0m \u001b[38;5;66;03m# return np.nditer(args, flags=['multi_index', 'zerosize_ok'],\u001b[39;00m\n\u001b[0;32m    536\u001b[0m \u001b[38;5;66;03m#                  order='C').itviews\u001b[39;00m\n\u001b[0;32m    538\u001b[0m args \u001b[38;5;241m=\u001b[39m [np\u001b[38;5;241m.\u001b[39marray(_m, copy\u001b[38;5;241m=\u001b[39m\u001b[38;5;28;01mFalse\u001b[39;00m, subok\u001b[38;5;241m=\u001b[39msubok) \u001b[38;5;28;01mfor\u001b[39;00m _m \u001b[38;5;129;01min\u001b[39;00m args]\n\u001b[1;32m--> 540\u001b[0m shape \u001b[38;5;241m=\u001b[39m \u001b[43m_broadcast_shape\u001b[49m\u001b[43m(\u001b[49m\u001b[38;5;241;43m*\u001b[39;49m\u001b[43margs\u001b[49m\u001b[43m)\u001b[49m\n\u001b[0;32m    542\u001b[0m \u001b[38;5;28;01mif\u001b[39;00m \u001b[38;5;28mall\u001b[39m(array\u001b[38;5;241m.\u001b[39mshape \u001b[38;5;241m==\u001b[39m shape \u001b[38;5;28;01mfor\u001b[39;00m array \u001b[38;5;129;01min\u001b[39;00m args):\n\u001b[0;32m    543\u001b[0m     \u001b[38;5;66;03m# Common case where nothing needs to be broadcasted.\u001b[39;00m\n\u001b[0;32m    544\u001b[0m     \u001b[38;5;28;01mreturn\u001b[39;00m args\n",
      "File \u001b[1;32mc:\\Python311\\Lib\\site-packages\\numpy\\lib\\stride_tricks.py:422\u001b[0m, in \u001b[0;36m_broadcast_shape\u001b[1;34m(*args)\u001b[0m\n\u001b[0;32m    417\u001b[0m \u001b[38;5;250m\u001b[39m\u001b[38;5;124;03m\"\"\"Returns the shape of the arrays that would result from broadcasting the\u001b[39;00m\n\u001b[0;32m    418\u001b[0m \u001b[38;5;124;03msupplied arrays against each other.\u001b[39;00m\n\u001b[0;32m    419\u001b[0m \u001b[38;5;124;03m\"\"\"\u001b[39;00m\n\u001b[0;32m    420\u001b[0m \u001b[38;5;66;03m# use the old-iterator because np.nditer does not handle size 0 arrays\u001b[39;00m\n\u001b[0;32m    421\u001b[0m \u001b[38;5;66;03m# consistently\u001b[39;00m\n\u001b[1;32m--> 422\u001b[0m b \u001b[38;5;241m=\u001b[39m \u001b[43mnp\u001b[49m\u001b[38;5;241;43m.\u001b[39;49m\u001b[43mbroadcast\u001b[49m\u001b[43m(\u001b[49m\u001b[38;5;241;43m*\u001b[39;49m\u001b[43margs\u001b[49m\u001b[43m[\u001b[49m\u001b[43m:\u001b[49m\u001b[38;5;241;43m32\u001b[39;49m\u001b[43m]\u001b[49m\u001b[43m)\u001b[49m\n\u001b[0;32m    423\u001b[0m \u001b[38;5;66;03m# unfortunately, it cannot handle 32 or more arguments directly\u001b[39;00m\n\u001b[0;32m    424\u001b[0m \u001b[38;5;28;01mfor\u001b[39;00m pos \u001b[38;5;129;01min\u001b[39;00m \u001b[38;5;28mrange\u001b[39m(\u001b[38;5;241m32\u001b[39m, \u001b[38;5;28mlen\u001b[39m(args), \u001b[38;5;241m31\u001b[39m):\n\u001b[0;32m    425\u001b[0m     \u001b[38;5;66;03m# ironically, np.broadcast does not properly handle np.broadcast\u001b[39;00m\n\u001b[0;32m    426\u001b[0m     \u001b[38;5;66;03m# objects (it treats them as scalars)\u001b[39;00m\n\u001b[0;32m    427\u001b[0m     \u001b[38;5;66;03m# use broadcasting to avoid allocating the full array\u001b[39;00m\n",
      "\u001b[1;31mValueError\u001b[0m: shape mismatch: objects cannot be broadcast to a single shape.  Mismatch is between arg 0 with shape (15,) and arg 1 with shape (1, 16)."
     ]
    },
    {
     "data": {
      "image/png": "[encoded data removed]",
      "text/plain": [
       "<Figure size 1200x600 with 1 Axes>"
      ]
     },
     "metadata": {},
     "output_type": "display_data"
    }
   ],
   "source": [
    "all_contributions = np.sum(contributions, axis=1)\n",
    "\n",
    "feature_names = features2.columns\n",
    "\n",
    "plt.figure(figsize=(12, 6))\n",
    "plt.bar(feature_names, all_contributions)\n",
    "plt.title('Contributions for All Features')\n",
    "plt.xlabel('Feature')\n",
    "plt.ylabel('Summed Contribution')\n",
    "plt.xticks(rotation=45, ha='right')\n",
    "plt.show()\n",
    "\n",
    "plt.show()"
   ]
  },
  {
   "cell_type": "code",
   "execution_count": null,
   "metadata": {},
   "outputs": [],
   "source": [
    "feature_importances = xgb.feature_importances_\n",
    "\n",
    "# Create a DataFrame to display feature importances\n",
    "feature_importance_df = pd.DataFrame({'Feature': X_train.columns, 'Importance': feature_importances})\n",
    "feature_importance_df = feature_importance_df.sort_values(by='Importance', ascending=False)\n",
    "\n",
    "print(\"\\nFeature Importances:\")\n",
    "print(feature_importance_df)"
   ]
  },
  {
   "cell_type": "code",
   "execution_count": null,
   "metadata": {},
   "outputs": [],
   "source": [
    "features1 =  extract_features(r\"..\\music\\Beyoncé-Single Ladies.mp3\")\n",
    "features2 =  extract_features(r\"..\\music\\Outkast-Hey Ya!.mp3\")\n",
    "features3=  extract_features(r\"../music/Taylor Swift-Bad Blood.mp3\")\n",
    "\n",
    "\n",
    "print('---------------------------------------------------')\n",
    "\n",
    "genre1 = xgb.predict(features1)\n",
    "genreP1 = xgb.predict_proba(features1)\n",
    "genre2 = xgb.predict(features2)\n",
    "genreP2 = xgb.predict_proba(features2)\n",
    "\n",
    "genre3 = xgb.predict(features3)\n",
    "genreP3 = xgb.predict_proba(features3)\n",
    "\n",
    "features1['label'] = genre1[0]\n",
    "features2['label'] = genre2[0]\n",
    "features3['label'] = genre3[0]\n",
    "\n",
    "label1 = label_encoder.inverse_transform(genre1)[0]\n",
    "label2 = label_encoder.inverse_transform(genre2)[0]\n",
    "label3 = label_encoder.inverse_transform(genre3)[0]\n",
    "\n",
    "confidence_score(genreP1)\n",
    "print(label1)\n",
    "\n",
    "print('---------------------------------------------------')\n",
    "\n",
    "confidence_score(genreP2)\n",
    "print(label2)\n",
    "\n",
    "print('---------------------------------------------------')\n",
    "\n",
    "confidence_score(genreP3)\n",
    "print(label3)\n",
    "\n"
   ]
  },
  {
   "cell_type": "code",
   "execution_count": null,
   "metadata": {},
   "outputs": [],
   "source": [
    "print(\"Similiar Songs:\",find_sim(features1))\n",
    "print('---------------------------------------------------')\n",
    "\n",
    "new_features = features1\n",
    "new_features['tempo'] = 400\n",
    "print(find_sim(new_features))\n",
    "print('---------------------------------------------------')\n",
    "\n",
    "\n"
   ]
  },
  {
   "cell_type": "code",
   "execution_count": null,
   "metadata": {},
   "outputs": [],
   "source": []
  },
  {
   "cell_type": "code",
   "execution_count": null,
   "metadata": {},
   "outputs": [],
   "source": [
    "combined_df = pd.concat([features1, features2], ignore_index=True)\n",
    "combined_df = pd.concat([combined_df, features3], ignore_index=True)\n",
    "combined_df = combined_df.drop(['filename'], axis=1)\n",
    "\n",
    "feature = 'tempo'\n",
    "pred = find_pred(combined_df, features1)\n",
    "print(\"Predicted feature: \",pred)\n",
    "# pred_features = features1\n",
    "# pred_features[feature] = pred\n",
    "print(\"Predicted Song: \" ,find_sim(pred))"
   ]
  },
  {
   "cell_type": "code",
   "execution_count": null,
   "metadata": {},
   "outputs": [],
   "source": [
    "# %pip install tensorflow"
   ]
  }
 ],
 "metadata": {
  "kernelspec": {
   "display_name": "Python 3",
   "language": "python",
   "name": "python3"
  },
  "language_info": {
   "codemirror_mode": {
    "name": "ipython",
    "version": 3
   },
   "file_extension": ".py",
   "mimetype": "text/x-python",
   "name": "python",
   "nbconvert_exporter": "python",
   "pygments_lexer": "ipython3",
   "version": "3.11.0"
  },
  "orig_nbformat": 4
 },
 "nbformat": 4,
 "nbformat_minor": 2
}

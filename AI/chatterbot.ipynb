{
 "cells": [
  {
   "cell_type": "code",
   "execution_count": 1,
   "metadata": {},
   "outputs": [],
   "source": [
    "# %pip install spacy\n"
   ]
  },
  {
   "cell_type": "code",
   "execution_count": 2,
   "metadata": {},
   "outputs": [],
   "source": [
    "# %run python -m spacy download en_core_web_sm\n"
   ]
  },
  {
   "cell_type": "code",
   "execution_count": 3,
   "metadata": {},
   "outputs": [],
   "source": [
    "import spacy\n",
    "from spacy.matcher import Matcher\n",
    "nlp = spacy.load(\"en_core_web_sm\")\n",
    "matcher = Matcher(nlp.vocab)\n",
    "\n",
    "patterns = [\n",
    "    [{\"LOWER\": \"hello\"}],\n",
    "    [{\"LOWER\": \"hi\"}],\n",
    "    [{\"LOWER\": \"how\"}, {\"LOWER\": \"are\"}, {\"LOWER\": \"you\"}],\n",
    "]\n",
    "\n",
    "responses = {\n",
    "    \"greetings\": [\n",
    "        [{\"LOWER\": \"hello\"}],\n",
    "        [{\"LOWER\": \"hi\"}],\n",
    "    ],\n",
    "    \"inquiries\": [\n",
    "        [{\"LOWER\": \"how\"}, {\"LOWER\": \"are\"}, {\"LOWER\": \"you\"}],\n",
    "    ],\n",
    "    \"commands\": [\n",
    "        [{\"LOWER\": \"help\"}],\n",
    "    ],\n",
    "}\n",
    "\n",
    "for category, patterns in responses.items():\n",
    "    for pattern in patterns:\n",
    "        matcher.add(category, [pattern])\n",
    "\n",
    "\n"
   ]
  },
  {
   "cell_type": "code",
   "execution_count": 4,
   "metadata": {},
   "outputs": [],
   "source": [
    "def chatbot_response(user_input):\n",
    "   doc = nlp(user_input)\n",
    "   matches = matcher(doc)\n",
    "   if matches:\n",
    "       match_id, _, _ = matches[0]\n",
    "       category = nlp.vocab.strings[match_id]\n",
    "       if category == \"greetings\":\n",
    "           return \"Hello! How can I assist you?\"\n",
    "       elif category == \"inquiries\":\n",
    "           return \"I'm just a chatbot. How can I assist you?\"\n",
    "       elif category == \"commands\":\n",
    "           return \"You can ask me for help.\"\n",
    "   else:\n",
    "       return \"I'm sorry, I don't understand that.\"\n"
   ]
  },
  {
   "cell_type": "code",
   "execution_count": 5,
   "metadata": {},
   "outputs": [],
   "source": [
    "\n",
    "def extract():\n",
    "    print(\"Extracting\")"
   ]
  },
  {
   "cell_type": "code",
   "execution_count": 6,
   "metadata": {},
   "outputs": [
    {
     "name": "stdout",
     "output_type": "stream",
     "text": [
      "Chatbot: I'm sorry, I don't understand that.\n",
      "Chatbot: Hello! How can I assist you?\n"
     ]
    }
   ],
   "source": [
    "while True:\n",
    "    user_input = input(\"You: \")\n",
    "    if user_input.lower() == \"extract\":\n",
    "        extract()\n",
    "    elif user_input.lower() == \"exit\":\n",
    "        break\n",
    "    else:\n",
    "        response = chatbot_response(user_input)\n",
    "        print(f\"Chatbot: {response}\")\n"
   ]
  }
 ],
 "metadata": {
  "kernelspec": {
   "display_name": "Python 3",
   "language": "python",
   "name": "python3"
  },
  "language_info": {
   "codemirror_mode": {
    "name": "ipython",
    "version": 3
   },
   "file_extension": ".py",
   "mimetype": "text/x-python",
   "name": "python",
   "nbconvert_exporter": "python",
   "pygments_lexer": "ipython3",
   "version": "3.11.5"
  }
 },
 "nbformat": 4,
 "nbformat_minor": 2
}

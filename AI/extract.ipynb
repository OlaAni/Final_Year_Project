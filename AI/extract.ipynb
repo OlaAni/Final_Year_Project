{
 "cells": [
  {
   "cell_type": "markdown",
   "metadata": {},
   "source": [
    "# Imports"
   ]
  },
  {
   "cell_type": "code",
   "execution_count": null,
   "metadata": {},
   "outputs": [],
   "source": [
    "# import pandas as pd\n",
    "# df = pd.read_csv('data\\Data\\musicFeatuers.csv')\n",
    "\n",
    "# from sklearn.preprocessing import LabelEncoder\n",
    "# label_encoder = LabelEncoder()\n",
    "\n",
    "# # df['label'] =  label_encoder.fit_transform(df['label'])\n",
    "\n",
    "# df = df.drop(['filename'], axis=1)\n",
    "\n",
    "\n",
    "\n",
    "# X = df[['chroma_stft_mean','chroma_stft_var','rms_mean','rms_var','spectral_centroid_mean','spectral_centroid_var','spectral_bandwidth_mean','spectral_bandwidth_var']]\n",
    "\n",
    "# y = df['label']\n",
    "\n",
    "# y = df[['label']]\n",
    "# X = df[df.columns.difference(['label'])]\n",
    "\n",
    "# from sklearn.model_selection import train_test_split\n",
    "\n",
    "# # X_train, X_test, y_train, y_test = train_test_split(X, y, test_size=0.1, random_state=1)\n",
    "\n",
    "# X_train, X_test, y_train, y_test = train_test_split(df, y, test_size=0.3, random_state=1)\n",
    "# ## train a tree model\n",
    "# sk_dt.fit(X_train, y_train)\n",
    "\n",
    "# from sklearn.linear_model import LinearRegression\n",
    "# # model = LinearRegression()\n",
    "# # model.fit(X_train, y_train)\n",
    "\n",
    "\n",
    "# from sklearn.metrics import classification_report\n",
    "\n",
    "# predictions = sk_dt.predict(X_test)\n",
    "\n",
    "\n",
    "# print(classification_report(y_test, predictions))\n",
    "\n",
    "# y_pred = sk_dt.predict(X_test)\n",
    "\n",
    "\n",
    "\n",
    "# from sklearn.metrics import mean_squared_error\n",
    "# mse = mean_squared_error(Y_test,y_pred)\n",
    "# print(mse)\n"
   ]
  },
  {
   "cell_type": "code",
   "execution_count": null,
   "metadata": {},
   "outputs": [],
   "source": [
    "# %pip install librosa --user"
   ]
  },
  {
   "cell_type": "code",
   "execution_count": 22,
   "metadata": {},
   "outputs": [],
   "source": [
    "import xgboost\n",
    "from sklearn.model_selection import train_test_split, cross_val_predict\n",
    "from sklearn.tree import DecisionTreeClassifier\n",
    "from sklearn.metrics import classification_report, confusion_matrix\n",
    "from sklearn import metrics\n",
    "from sklearn.preprocessing import LabelEncoder\n",
    "import pandas as pd\n",
    "import librosa\n",
    "import numpy as np\n",
    "\n",
    "\n",
    "import warnings\n",
    "warnings.filterwarnings('ignore')\n",
    "# ## create the classifier object leaving all params to default values except random_state\n",
    "# sk_dt = DecisionTreeClassifier(random_state=1)\n"
   ]
  },
  {
   "cell_type": "markdown",
   "metadata": {},
   "source": [
    "# Model"
   ]
  },
  {
   "cell_type": "code",
   "execution_count": 23,
   "metadata": {},
   "outputs": [
    {
     "name": "stdout",
     "output_type": "stream",
     "text": [
      "['blues' 'classical' 'country' 'disco' 'hiphop' 'jazz' 'metal' 'pop'\n",
      " 'reggae' 'rock']\n",
      "6993 2997 6993 2997\n"
     ]
    }
   ],
   "source": [
    "df = pd.read_csv(r'..\\data\\Data\\features_3_sec.csv')\n",
    "\n",
    "# df = df.drop(['filename'], axis=1)\n",
    "\n",
    "# df = df[['chroma_stft_mean','chroma_stft_var','rms_mean','rms_var','spectral_centroid_mean','spectral_centroid_var','spectral_bandwidth_mean','spectral_bandwidth_var','label']]\n",
    "\n",
    "df = df[['chroma_stft_mean','chroma_stft_var','rms_mean','rms_var','spectral_centroid_mean','spectral_centroid_var','spectral_bandwidth_mean','spectral_bandwidth_var','rolloff_mean','rolloff_var','zero_crossing_rate_mean','zero_crossing_rate_var','harmony_mean','harmony_var','tempo','label']]\n",
    "from sklearn.preprocessing import LabelEncoder\n",
    "label_encoder = LabelEncoder()\n",
    "\n",
    "\n",
    "df['label'] =  label_encoder.fit_transform(df['label'])\n",
    "\n",
    "print(label_encoder.classes_)\n",
    "\n",
    "y = df[['label']]\n",
    "X = df[df.columns.difference(['label'])]\n",
    "\n",
    "\n",
    "## split both X and y using a ratio of 70% training - 30% testing\n",
    "X_train, X_test, y_train, y_test = train_test_split(X, y, test_size=0.3, random_state=1)\n",
    "print(len(X_train), len(X_test), len(y_train), len(y_test))\n",
    "\n",
    "target_name = ['blues', 'classical', 'country', 'disco', 'hiphop' ,'jazz' ,'metal', 'pop','reggae' ,'rock']\n"
   ]
  },
  {
   "cell_type": "code",
   "execution_count": 24,
   "metadata": {},
   "outputs": [
    {
     "name": "stdout",
     "output_type": "stream",
     "text": [
      "              precision    recall  f1-score   support\n",
      "\n",
      "       blues       0.77      0.83      0.80       302\n",
      "   classical       0.91      0.92      0.92       296\n",
      "     country       0.68      0.76      0.72       312\n",
      "       disco       0.78      0.78      0.78       283\n",
      "      hiphop       0.85      0.79      0.82       320\n",
      "        jazz       0.80      0.81      0.80       289\n",
      "       metal       0.87      0.89      0.88       303\n",
      "         pop       0.84      0.77      0.80       298\n",
      "      reggae       0.78      0.73      0.75       310\n",
      "        rock       0.65      0.61      0.63       284\n",
      "\n",
      "    accuracy                           0.79      2997\n",
      "   macro avg       0.79      0.79      0.79      2997\n",
      "weighted avg       0.79      0.79      0.79      2997\n",
      "\n",
      "Accuracy:  0.7911244577911245\n"
     ]
    }
   ],
   "source": [
    "\n",
    "\n",
    "xgb = xgboost.XGBClassifier(n_estimators=1000,enable_catergorical=True,learning_rate=0.05)\n",
    "xgb.fit(X_train, y_train)\n",
    "\n",
    "## make predictions on the test portion (predict the labels of the rows from the test portion of X)\n",
    "predictionsXgb = xgb.predict(X_test)\n",
    "\n",
    "\n",
    "\n",
    "print(classification_report(y_test, predictionsXgb, target_names=target_name))\n",
    "## can also output the confusion matrix\n",
    "# cm = confusion_matrix(y_test, predictions)\n",
    "# print(cm)\n",
    "\n",
    "print(\"Accuracy: \" ,metrics.accuracy_score(y_test, predictionsXgb))\n",
    "\n",
    "cols_when_model_builds = xgb.feature_names_in_\n"
   ]
  },
  {
   "cell_type": "code",
   "execution_count": 25,
   "metadata": {},
   "outputs": [
    {
     "name": "stdout",
     "output_type": "stream",
     "text": [
      "              precision    recall  f1-score   support\n",
      "\n",
      "       blues       0.66      0.75      0.70       302\n",
      "   classical       0.88      0.89      0.89       296\n",
      "     country       0.58      0.58      0.58       312\n",
      "       disco       0.58      0.72      0.64       283\n",
      "      hiphop       0.80      0.64      0.71       320\n",
      "        jazz       0.70      0.72      0.71       289\n",
      "       metal       0.74      0.87      0.80       303\n",
      "         pop       0.80      0.71      0.75       298\n",
      "      reggae       0.64      0.70      0.67       310\n",
      "        rock       0.64      0.40      0.50       284\n",
      "\n",
      "    accuracy                           0.70      2997\n",
      "   macro avg       0.70      0.70      0.70      2997\n",
      "weighted avg       0.70      0.70      0.70      2997\n",
      "\n",
      "Accuracy:  0.6996996996996997\n"
     ]
    }
   ],
   "source": [
    "from sklearn.ensemble import RandomForestClassifier\n",
    "\n",
    "\n",
    "forest = RandomForestClassifier(n_estimators=1000, max_depth=10, random_state=0)\n",
    "forest.fit(X_train, y_train)\n",
    "predictionsForest = forest.predict(X_test)\n",
    "\n",
    "print(classification_report(y_test, predictionsForest, target_names=target_name))\n",
    "print(\"Accuracy: \" ,metrics.accuracy_score(y_test, predictionsForest))\n",
    "\n"
   ]
  },
  {
   "cell_type": "code",
   "execution_count": 26,
   "metadata": {},
   "outputs": [
    {
     "name": "stdout",
     "output_type": "stream",
     "text": [
      "              precision    recall  f1-score   support\n",
      "\n",
      "       blues       0.56      0.53      0.55       302\n",
      "   classical       0.84      0.86      0.85       296\n",
      "     country       0.47      0.45      0.46       312\n",
      "       disco       0.51      0.54      0.52       283\n",
      "      hiphop       0.61      0.56      0.58       320\n",
      "        jazz       0.61      0.66      0.63       289\n",
      "       metal       0.73      0.71      0.72       303\n",
      "         pop       0.68      0.66      0.67       298\n",
      "      reggae       0.58      0.54      0.56       310\n",
      "        rock       0.36      0.43      0.39       284\n",
      "\n",
      "    accuracy                           0.59      2997\n",
      "   macro avg       0.60      0.59      0.59      2997\n",
      "weighted avg       0.60      0.59      0.59      2997\n",
      "\n",
      "Accuracy:  0.5925925925925926\n"
     ]
    }
   ],
   "source": [
    "dtc = DecisionTreeClassifier()\n",
    "dtc.fit(X_train, y_train)\n",
    "predictionsDTC = dtc.predict(X_test)\n",
    "\n",
    "print(classification_report(y_test, predictionsDTC, target_names=target_name))\n",
    "print(\"Accuracy: \" ,metrics.accuracy_score(y_test, predictionsDTC))"
   ]
  },
  {
   "cell_type": "code",
   "execution_count": 27,
   "metadata": {},
   "outputs": [
    {
     "name": "stdout",
     "output_type": "stream",
     "text": [
      "              precision    recall  f1-score   support\n",
      "\n",
      "       blues       0.21      0.18      0.19       302\n",
      "   classical       0.59      0.66      0.63       296\n",
      "     country       0.18      0.15      0.17       312\n",
      "       disco       0.15      0.21      0.17       283\n",
      "      hiphop       0.22      0.17      0.19       320\n",
      "        jazz       0.25      0.24      0.24       289\n",
      "       metal       0.29      0.41      0.34       303\n",
      "         pop       0.35      0.38      0.37       298\n",
      "      reggae       0.29      0.30      0.29       310\n",
      "        rock       0.11      0.06      0.08       284\n",
      "\n",
      "    accuracy                           0.28      2997\n",
      "   macro avg       0.26      0.28      0.27      2997\n",
      "weighted avg       0.26      0.28      0.27      2997\n",
      "\n",
      "Accuracy:  0.27560894227560895\n"
     ]
    }
   ],
   "source": [
    "from sklearn.neighbors import KNeighborsClassifier\n",
    "\n",
    "\n",
    "KNC = KNeighborsClassifier(n_neighbors=20)\n",
    "KNC.fit(X_train, y_train)\n",
    "predictionsKNC = KNC.predict(X_test)\n",
    "\n",
    "print(classification_report(y_test, predictionsKNC, target_names=target_name))\n",
    "print(\"Accuracy: \" ,metrics.accuracy_score(y_test, predictionsKNC))\n"
   ]
  },
  {
   "cell_type": "markdown",
   "metadata": {},
   "source": [
    "# Find Similar"
   ]
  },
  {
   "cell_type": "code",
   "execution_count": 28,
   "metadata": {},
   "outputs": [],
   "source": [
    "from sklearn.metrics.pairwise import cosine_similarity\n",
    "from sklearn import preprocessing\n",
    "from sklearn.preprocessing import LabelEncoder\n",
    "\n",
    "def find_sim(data):\n",
    "    placeHoldername = 'test'\n",
    "    data['filename'] = placeHoldername\n",
    "\n",
    "    df_sim = pd.read_csv(r'..\\data\\Data\\features_30_sec.csv')\n",
    "\n",
    "    df_sim = df_sim[['filename','chroma_stft_mean','chroma_stft_var','rms_mean','rms_var','spectral_centroid_mean','spectral_centroid_var','spectral_bandwidth_mean','spectral_bandwidth_var','rolloff_mean','rolloff_var','zero_crossing_rate_mean','zero_crossing_rate_var','harmony_mean','harmony_var','tempo','label']]\n",
    "\n",
    "\n",
    "    from sklearn.preprocessing import LabelEncoder\n",
    "    label_encoder = LabelEncoder()\n",
    "    df_sim['label'] = df_sim['label'].astype(\"string\")\n",
    "    df_sim['label'] =  label_encoder.fit_transform(df_sim['label'])\n",
    "\n",
    "\n",
    "\n",
    "\n",
    "    combined_df = pd.concat([df_sim, data], ignore_index=True)\n",
    "\n",
    "    combined_df = combined_df.set_index('filename')\n",
    "\n",
    " \n",
    "    labels = combined_df[['label']]\n",
    "\n",
    "    \n",
    "    scaled = preprocessing.scale(combined_df)\n",
    "    similarity = cosine_similarity(scaled)\n",
    "    sim_df_labels = pd.DataFrame(similarity)\n",
    "    sim_df_names = sim_df_labels.set_index(labels.index)\n",
    "    sim_df_names.columns = labels.index\n",
    "\n",
    "    series = sim_df_names[placeHoldername].sort_values(ascending=False)\n",
    "    series = series.drop(placeHoldername)\n",
    "    return series.head(3)\n",
    "\n",
    "\n",
    "\n"
   ]
  },
  {
   "cell_type": "markdown",
   "metadata": {},
   "source": [
    "# Find Prediction"
   ]
  },
  {
   "cell_type": "code",
   "execution_count": 29,
   "metadata": {},
   "outputs": [],
   "source": [
    "def find_pred(data, features, predicted_feature):\n",
    "    from sklearn.model_selection import train_test_split\n",
    "    from sklearn.linear_model import LinearRegression\n",
    "\n",
    "    features = features.drop(['filename'], axis=1)\n",
    "\n",
    "    X_train, X_test, y_train, y_test = train_test_split(data, data[predicted_feature], test_size=0.2)\n",
    "\n",
    "    model = LinearRegression()\n",
    "    model.fit(X_train, y_train)\n",
    "\n",
    "\n",
    "    prediction = model.predict(features)\n",
    "\n",
    "    return prediction[0]\n",
    "\n",
    "\n"
   ]
  },
  {
   "cell_type": "markdown",
   "metadata": {},
   "source": [
    "# Feature Extractor\n",
    "\n"
   ]
  },
  {
   "cell_type": "code",
   "execution_count": 30,
   "metadata": {},
   "outputs": [],
   "source": [
    "def extract_features(file):\n",
    "    y, sr = librosa.load(file)\n",
    "\n",
    "    chroma_sft_mean =  np.mean(librosa.feature.chroma_stft(y=y, sr=sr))\n",
    "    chroma_sft_var =  librosa.feature.chroma_stft(y=y, sr=sr).var()\n",
    "\n",
    "    rms_mean = librosa.feature.rms(y=y).mean()\n",
    "    rms_var = librosa.feature.rms(y=y).var()\n",
    "\n",
    "    spectral_centroid_mean = librosa.feature.spectral_centroid(y=y, sr=sr).mean()\n",
    "    spectral_centroid_var = librosa.feature.spectral_centroid(y=y, sr=sr).var()\n",
    "\n",
    "    spectral_bandwith_mean = librosa.feature.spectral_bandwidth(y=y, sr=sr).mean()\n",
    "    spectral_bandwith_var = librosa.feature.spectral_bandwidth(y=y, sr=sr).var()\n",
    "\n",
    "    rolloff_mean = librosa.feature.spectral_rolloff(y=y, sr=sr).mean()\n",
    "    rolloff_var = librosa.feature.spectral_rolloff(y=y, sr=sr).var()\n",
    "\n",
    "    zero_crossing_rate_mean = librosa.feature.zero_crossing_rate(y=y).mean()\n",
    "    zero_crossing_rate_var = librosa.feature.zero_crossing_rate(y=y).var()\n",
    "\n",
    "\n",
    "    harmony_mean = librosa.effects.harmonic(y).mean()\n",
    "    harmony_var = librosa.effects.harmonic(y).var()\n",
    "\n",
    "    tempo = librosa.feature.tempo(y=y, sr=sr)[0]\n",
    "\n",
    "    \n",
    "\n",
    "    print(\"chroma_sft_mean: \",chroma_sft_mean)\n",
    "    print(\"chroma_sft_var: \",chroma_sft_var)\n",
    "    print(\"rms_mean: \",rms_mean)\n",
    "    print(\"rms_var: \",rms_var)\n",
    "    print(\"spectral_centroid_mean: \",spectral_centroid_mean)\n",
    "    print(\"spectral_centroid_var: \",spectral_centroid_var)\n",
    "    print(\"spectral_bandwith_mean: \",spectral_bandwith_mean)\n",
    "    print(\"spectral_bandwith_var: \",spectral_bandwith_var)\n",
    "    print(\"rolloff_mean: \",rolloff_mean)\n",
    "    print(\"rolloff_var: \",rolloff_var)\n",
    "    print(\"zero_crossing_rate_mean: \",zero_crossing_rate_mean)\n",
    "    print(\"zero_crossing_rate_var: \",zero_crossing_rate_var)\n",
    "    print(\"harmony_mean: \",harmony_mean)\n",
    "    print(\"harmony_var: \",harmony_var)\n",
    "    print(\"tempo: \",tempo)\n",
    "\n",
    "    features = pd.DataFrame({'chroma_stft_mean':[chroma_sft_mean],'chroma_stft_var':[chroma_sft_var],'rms_mean':[rms_mean],'rms_var':[rms_var],'spectral_centroid_mean':[spectral_centroid_mean],\n",
    "                             'spectral_centroid_var':[spectral_centroid_var],'spectral_bandwidth_mean':[spectral_bandwith_mean],'spectral_bandwidth_var':[spectral_bandwith_var],\n",
    "                             'rolloff_mean':[rolloff_mean],'rolloff_var':[rolloff_var],'zero_crossing_rate_mean':[zero_crossing_rate_mean],'zero_crossing_rate_var':[zero_crossing_rate_var],\n",
    "                             'harmony_mean':[harmony_mean],'harmony_var':[harmony_var],'tempo':[tempo],})\n",
    "    \n",
    "\n",
    "    features = features.reindex(columns=cols_when_model_builds)\n",
    "\n",
    "    # features = features.reshape(-1,1)\n",
    "    return features\n",
    "\n"
   ]
  },
  {
   "cell_type": "markdown",
   "metadata": {},
   "source": [
    "# Main"
   ]
  },
  {
   "cell_type": "markdown",
   "metadata": {},
   "source": [
    "* 'blues':0, 'classical':1, 'country':2, 'disco':3, 'hiphop':4 ,'jazz':5 ,'metal':6, 'pop':7,'reggae':8 ,'rock':9 "
   ]
  },
  {
   "cell_type": "code",
   "execution_count": 36,
   "metadata": {},
   "outputs": [
    {
     "name": "stdout",
     "output_type": "stream",
     "text": [
      "chroma_sft_mean:  0.44487435\n",
      "chroma_sft_var:  0.09353361\n",
      "rms_mean:  0.16312669\n",
      "rms_var:  0.0012979151\n",
      "spectral_centroid_mean:  2935.3469665270536\n",
      "spectral_centroid_var:  398891.0507736011\n",
      "spectral_bandwith_mean:  2719.901944654587\n",
      "spectral_bandwith_var:  83637.97054642365\n",
      "rolloff_mean:  6040.71543340452\n",
      "rolloff_var:  1651437.4784093106\n",
      "zero_crossing_rate_mean:  0.13704272207504326\n",
      "zero_crossing_rate_var:  0.002931172480525642\n",
      "harmony_mean:  -2.2207041e-06\n",
      "harmony_var:  0.011054042\n",
      "tempo:  95.703125\n",
      "chroma_sft_mean:  0.48688152\n",
      "chroma_sft_var:  0.07453386\n",
      "rms_mean:  0.18483745\n",
      "rms_var:  0.0010621852\n",
      "spectral_centroid_mean:  2057.5505880081246\n",
      "spectral_centroid_var:  138830.8042402148\n",
      "spectral_bandwith_mean:  2235.3802284197614\n",
      "spectral_bandwith_var:  52725.014757933415\n",
      "rolloff_mean:  4201.572520697295\n",
      "rolloff_var:  760465.70219222\n",
      "zero_crossing_rate_mean:  0.09362877992848259\n",
      "zero_crossing_rate_var:  0.000869912190093979\n",
      "harmony_mean:  6.2925446e-06\n",
      "harmony_var:  0.015244796\n",
      "tempo:  107.666015625\n",
      "chroma_sft_mean:  0.44487435\n",
      "chroma_sft_var:  0.09353361\n",
      "rms_mean:  0.16312669\n",
      "rms_var:  0.0012979151\n",
      "spectral_centroid_mean:  2935.3469665270536\n",
      "spectral_centroid_var:  398891.0507736011\n",
      "spectral_bandwith_mean:  2719.901944654587\n",
      "spectral_bandwith_var:  83637.97054642365\n",
      "rolloff_mean:  6040.71543340452\n",
      "rolloff_var:  1651437.4784093106\n",
      "zero_crossing_rate_mean:  0.13704272207504326\n",
      "zero_crossing_rate_var:  0.002931172480525642\n",
      "harmony_mean:  -2.2207041e-06\n",
      "harmony_var:  0.011054042\n",
      "tempo:  95.703125\n"
     ]
    }
   ],
   "source": [
    "features1 =  extract_features(r\"..\\music\\Beyoncé-Single Ladies.mp3\")\n",
    "features2 =  extract_features(r\"..\\music\\Outkast-Hey Ya!.mp3\")\n",
    "features3 =  extract_features(r\"..\\music\\Beyoncé-Single Ladies.mp3\")\n",
    "\n",
    "# features3=  extract_features(r\"..\\data\\Data\\genres_original\\pop\\pop.00005.wav\")\n",
    "\n"
   ]
  },
  {
   "cell_type": "code",
   "execution_count": 38,
   "metadata": {},
   "outputs": [
    {
     "name": "stdout",
     "output_type": "stream",
     "text": [
      "---------------------------------------------------\n",
      "['rock']\n",
      "['metal']\n",
      "['rock']\n"
     ]
    }
   ],
   "source": [
    "genre1 = xgb.predict(features1)\n",
    "# genre1 = xgb.predict_proba(features1)\n",
    "genre2 = xgb.predict(features2)\n",
    "# genre2 = xgb.predict_proba(features2)\n",
    "\n",
    "genre3 = xgb.predict(features3)\n",
    "\n",
    "features1['label'] = genre1[0]\n",
    "features2['label'] = genre2[0]\n",
    "features3['label'] = genre3[0]\n",
    "print('---------------------------------------------------')\n",
    "\n",
    "print(label_encoder.inverse_transform(genre1))\n",
    "print(label_encoder.inverse_transform(genre2))\n",
    "print(label_encoder.inverse_transform(genre3))\n"
   ]
  },
  {
   "cell_type": "code",
   "execution_count": 39,
   "metadata": {},
   "outputs": [
    {
     "name": "stdout",
     "output_type": "stream",
     "text": [
      "Similiar Songs: filename\n",
      "rock.00040.wav    0.894860\n",
      "rock.00047.wav    0.857442\n",
      "rock.00043.wav    0.857361\n",
      "Name: test, dtype: float64\n",
      "---------------------------------------------------\n",
      "filename\n",
      "hiphop.00015.wav    0.869704\n",
      "rock.00022.wav      0.804720\n",
      "jazz.00077.wav      0.799673\n",
      "Name: test, dtype: float64\n",
      "---------------------------------------------------\n"
     ]
    }
   ],
   "source": [
    "print(\"Similiar Songs:\",find_sim(features1))\n",
    "print('---------------------------------------------------')\n",
    "\n",
    "new_features = features1\n",
    "new_features['tempo'] = 400\n",
    "print(find_sim(new_features))\n",
    "print('---------------------------------------------------')\n",
    "\n",
    "combined_df = pd.concat([features1, features2], ignore_index=True)\n",
    "combined_df = pd.concat([combined_df, features3], ignore_index=True)\n",
    "combined_df = combined_df.drop(['filename'], axis=1)\n"
   ]
  },
  {
   "cell_type": "code",
   "execution_count": 40,
   "metadata": {},
   "outputs": [
    {
     "name": "stdout",
     "output_type": "stream",
     "text": [
      "Predicted feature:  400.0\n",
      "Predicted Song:  filename\n",
      "hiphop.00015.wav    0.869704\n",
      "rock.00022.wav      0.804720\n",
      "jazz.00077.wav      0.799673\n",
      "Name: test, dtype: float64\n"
     ]
    }
   ],
   "source": [
    "feature = 'tempo'\n",
    "\n",
    "\n",
    "pred = find_pred(combined_df, features1, feature)\n",
    "\n",
    "\n",
    "print(\"Predicted feature: \",pred)\n",
    "\n",
    "pred_features = features1\n",
    "pred_features[feature] = pred\n",
    "\n",
    "print(\"Predicted Song: \" ,find_sim(pred_features))"
   ]
  },
  {
   "cell_type": "code",
   "execution_count": 41,
   "metadata": {},
   "outputs": [],
   "source": [
    "# %pip install tensorflow"
   ]
  }
 ],
 "metadata": {
  "kernelspec": {
   "display_name": "Python 3",
   "language": "python",
   "name": "python3"
  },
  "language_info": {
   "codemirror_mode": {
    "name": "ipython",
    "version": 3
   },
   "file_extension": ".py",
   "mimetype": "text/x-python",
   "name": "python",
   "nbconvert_exporter": "python",
   "pygments_lexer": "ipython3",
   "version": "3.11.5"
  },
  "orig_nbformat": 4
 },
 "nbformat": 4,
 "nbformat_minor": 2
}
